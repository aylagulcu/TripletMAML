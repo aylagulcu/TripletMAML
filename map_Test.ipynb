{
 "cells": [
  {
   "cell_type": "code",
   "execution_count": null,
   "metadata": {},
   "outputs": [],
   "source": []
  },
  {
   "cell_type": "code",
   "execution_count": 15,
   "metadata": {},
   "outputs": [],
   "source": [
    "import numpy as np\n",
    "\n",
    "gt = np.array(['a', 'b', 'c', 'd', 'e'])\n",
    "\n",
    "preds1 = np.array(['b', 'c', 'a', 'd', 'e'])\n",
    "preds2 = np.array(['a', 'b', 'c', 'd', 'e'])\n",
    "preds3 = np.array(['f', 'b', 'c', 'd', 'e'])\n",
    "preds4 = np.array(['a', 'f', 'e', 'g', 'b'])\n",
    "preds5 = np.array(['a', 'f', 'c', 'g', 'b'])\n",
    "preds6 = np.array(['d', 'c', 'b', 'a', 'e'])"
   ]
  },
  {
   "cell_type": "code",
   "execution_count": 16,
   "metadata": {},
   "outputs": [],
   "source": [
    "def precision_at_k(y_true, y_pred, k=12):\n",
    "    \"\"\" Computes Precision at k for one sample\n",
    "    \n",
    "    Parameters\n",
    "    __________\n",
    "    y_true: np.array\n",
    "            Array of correct recommendations (Order doesn't matter)\n",
    "    y_pred: np.array\n",
    "            Array of predicted recommendations (Order does matter)\n",
    "    k: int, optional\n",
    "       Maximum number of predicted recommendations\n",
    "            \n",
    "    Returns\n",
    "    _______\n",
    "    score: double\n",
    "           Precision at k\n",
    "    \"\"\"\n",
    "    intersection = np.intersect1d(y_true, y_pred[:k])\n",
    "    return len(intersection) / k"
   ]
  },
  {
   "cell_type": "code",
   "execution_count": 17,
   "metadata": {},
   "outputs": [],
   "source": [
    "assert precision_at_k(gt, preds1, k=1) == 1.0\n",
    "assert precision_at_k(gt, preds2, k=1) == 1.0\n",
    "assert precision_at_k(gt, preds3, k=1) == 0.0\n",
    "assert precision_at_k(gt, preds4, k=2) == 1/2\n",
    "assert precision_at_k(gt, preds5, k=3) == 2/3\n",
    "assert precision_at_k(gt, preds6, k=3) == 3/3"
   ]
  },
  {
   "cell_type": "code",
   "execution_count": 18,
   "metadata": {},
   "outputs": [],
   "source": [
    "def rel_at_k(y_true, y_pred, k=12):\n",
    "    \"\"\" Computes Relevance at k for one sample\n",
    "    \n",
    "    Parameters\n",
    "    __________\n",
    "    y_true: np.array\n",
    "            Array of correct recommendations (Order doesn't matter)\n",
    "    y_pred: np.array\n",
    "            Array of predicted recommendations (Order does matter)\n",
    "    k: int, optional\n",
    "       Maximum number of predicted recommendations\n",
    "            \n",
    "    Returns\n",
    "    _______\n",
    "    score: double\n",
    "           Relevance at k\n",
    "    \"\"\"\n",
    "    if y_pred[k-1] in y_true:\n",
    "        return 1\n",
    "    else:\n",
    "        return 0"
   ]
  },
  {
   "cell_type": "code",
   "execution_count": 19,
   "metadata": {},
   "outputs": [],
   "source": [
    "assert rel_at_k(gt, preds1, k=1) == 1.0\n",
    "assert rel_at_k(gt, preds2, k=1) == 1.0\n",
    "assert rel_at_k(gt, preds3, k=1) == 0.0\n",
    "assert rel_at_k(gt, preds4, k=2) == 0.0\n",
    "assert rel_at_k(gt, preds5, k=3) == 1.0\n",
    "assert rel_at_k(gt, preds6, k=3) == 1.0"
   ]
  },
  {
   "cell_type": "code",
   "execution_count": 20,
   "metadata": {},
   "outputs": [],
   "source": [
    "def average_precision_at_k(y_true, y_pred, k=12):\n",
    "    \"\"\" Computes Average Precision at k for one sample\n",
    "    \n",
    "    Parameters\n",
    "    __________\n",
    "    y_true: np.array\n",
    "            Array of correct recommendations (Order doesn't matter)\n",
    "    y_pred: np.array\n",
    "            Array of predicted recommendations (Order does matter)\n",
    "    k: int, optional\n",
    "       Maximum number of predicted recommendations\n",
    "            \n",
    "    Returns\n",
    "    _______\n",
    "    score: double\n",
    "           Average Precision at k\n",
    "    \"\"\"\n",
    "    ap = 0.0\n",
    "    for i in range(1, k+1):\n",
    "        ap += precision_at_k(y_true, y_pred, i) * rel_at_k(y_true, y_pred, i)\n",
    "        \n",
    "    return ap / min(k, len(y_true))"
   ]
  },
  {
   "cell_type": "code",
   "execution_count": 21,
   "metadata": {},
   "outputs": [],
   "source": [
    "assert average_precision_at_k(gt, preds1, k=1) == 1.0\n",
    "assert average_precision_at_k(gt, preds2, k=1) == 1.0\n",
    "assert average_precision_at_k(gt, preds3, k=1) == 0.0\n",
    "assert average_precision_at_k(gt, preds4, k=2) == 0.5\n",
    "assert average_precision_at_k(gt, preds5, k=3) == 0.5555555555555555\n",
    "assert average_precision_at_k(gt, preds6, k=3) == 1.0"
   ]
  },
  {
   "cell_type": "code",
   "execution_count": 22,
   "metadata": {},
   "outputs": [],
   "source": [
    "def mean_average_precision(y_true, y_pred, k=12):\n",
    "    \"\"\" Computes MAP at k\n",
    "    \n",
    "    Parameters\n",
    "    __________\n",
    "    y_true: np.array\n",
    "            2D Array of correct recommendations (Order doesn't matter)\n",
    "    y_pred: np.array\n",
    "            2D Array of predicted recommendations (Order does matter)\n",
    "    k: int, optional\n",
    "       Maximum number of predicted recommendations\n",
    "            \n",
    "    Returns\n",
    "    _______\n",
    "    score: double\n",
    "           MAP at k\n",
    "    \"\"\"\n",
    "    return np.mean([average_precision_at_k(gt, pred, k) \\\n",
    "                    for gt, pred in zip(y_true, y_pred)])"
   ]
  },
  {
   "cell_type": "code",
   "execution_count": 23,
   "metadata": {},
   "outputs": [],
   "source": [
    "y_true = np.array([gt, gt, gt, gt, gt, gt])\n",
    "y_pred = np.array([preds1, preds2, preds3, preds4, preds5, preds6])"
   ]
  },
  {
   "cell_type": "code",
   "execution_count": 24,
   "metadata": {},
   "outputs": [
    {
     "name": "stdout",
     "output_type": "stream",
     "text": [
      "1.0\n",
      "1.0\n",
      "0.47916666666666663\n",
      "0.41666666666666663\n",
      "0.41666666666666663\n",
      "1.0\n"
     ]
    }
   ],
   "source": [
    "print(average_precision_at_k(gt, preds1, k=4))\n",
    "print(average_precision_at_k(gt, preds2, k=4))\n",
    "print(average_precision_at_k(gt, preds3, k=4))\n",
    "print(average_precision_at_k(gt, preds4, k=4))\n",
    "print(average_precision_at_k(gt, preds5, k=4))\n",
    "print(average_precision_at_k(gt, preds6, k=4))"
   ]
  },
  {
   "cell_type": "code",
   "execution_count": 25,
   "metadata": {},
   "outputs": [
    {
     "data": {
      "text/plain": [
       "0.71875"
      ]
     },
     "execution_count": 25,
     "metadata": {},
     "output_type": "execute_result"
    }
   ],
   "source": [
    "mean_average_precision(y_true, y_pred, k=4)"
   ]
  },
  {
   "cell_type": "code",
   "execution_count": null,
   "metadata": {},
   "outputs": [],
   "source": []
  }
 ],
 "metadata": {
  "kernelspec": {
   "display_name": "Python 3 (ipykernel)",
   "language": "python",
   "name": "python3"
  },
  "language_info": {
   "codemirror_mode": {
    "name": "ipython",
    "version": 3
   },
   "file_extension": ".py",
   "mimetype": "text/x-python",
   "name": "python",
   "nbconvert_exporter": "python",
   "pygments_lexer": "ipython3",
   "version": "3.8.8"
  }
 },
 "nbformat": 4,
 "nbformat_minor": 2
}
